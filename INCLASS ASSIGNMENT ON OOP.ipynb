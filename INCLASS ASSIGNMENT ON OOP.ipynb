{
 "cells": [
  {
   "cell_type": "code",
   "execution_count": 5,
   "metadata": {},
   "outputs": [
    {
     "ename": "TypeError",
     "evalue": "__init__() missing 3 required positional arguments: 'thehostelname', 'theage', and 'thecsc102examscore'",
     "output_type": "error",
     "traceback": [
      "\u001b[1;31m---------------------------------------------------------------------------\u001b[0m",
      "\u001b[1;31mTypeError\u001b[0m                                 Traceback (most recent call last)",
      "\u001b[1;32m<ipython-input-5-9cec9d434372>\u001b[0m in \u001b[0;36m<module>\u001b[1;34m\u001b[0m\n\u001b[0;32m     34\u001b[0m         \u001b[0mprint\u001b[0m\u001b[1;33m(\u001b[0m\u001b[1;34m'registred course is CSC 102'\u001b[0m\u001b[1;33m)\u001b[0m\u001b[1;33m\u001b[0m\u001b[1;33m\u001b[0m\u001b[0m\n\u001b[0;32m     35\u001b[0m \u001b[1;33m\u001b[0m\u001b[0m\n\u001b[1;32m---> 36\u001b[1;33m \u001b[0mstudendt1\u001b[0m \u001b[1;33m=\u001b[0m \u001b[0mStudent\u001b[0m\u001b[1;33m(\u001b[0m\u001b[1;34m'James Kaka'\u001b[0m\u001b[1;33m,\u001b[0m \u001b[1;34m'021074'\u001b[0m\u001b[1;33m,\u001b[0m \u001b[1;34m'M'\u001b[0m\u001b[1;33m)\u001b[0m\u001b[1;33m\u001b[0m\u001b[1;33m\u001b[0m\u001b[0m\n\u001b[0m\u001b[0;32m     37\u001b[0m \u001b[0mprint\u001b[0m\u001b[1;33m(\u001b[0m\u001b[0mstudendt1\u001b[0m\u001b[1;33m.\u001b[0m\u001b[0mgetName\u001b[0m\u001b[1;33m(\u001b[0m\u001b[1;33m)\u001b[0m\u001b[1;33m)\u001b[0m\u001b[1;33m\u001b[0m\u001b[1;33m\u001b[0m\u001b[0m\n\u001b[0;32m     38\u001b[0m \u001b[0mstudendt1\u001b[0m\u001b[1;33m.\u001b[0m\u001b[0msetName\u001b[0m\u001b[1;33m(\u001b[0m\u001b[1;34m'James Gaga'\u001b[0m\u001b[1;33m)\u001b[0m\u001b[1;33m\u001b[0m\u001b[1;33m\u001b[0m\u001b[0m\n",
      "\u001b[1;31mTypeError\u001b[0m: __init__() missing 3 required positional arguments: 'thehostelname', 'theage', and 'thecsc102examscore'"
     ]
    }
   ],
   "source": [
    "class Student:\n",
    "     registeredCourse = \"CSC 102\"\n",
    "     studentLevel = 'first year computer science 2020/2021 session'\n",
    "     studentCounter = 0\n",
    "     def __init__(self, thename, thematricno, thesex, thehostelname, \n",
    "                  theage, thecsc102examscore):\n",
    "         self.name = thename\n",
    "         self.matricno = thematricno\n",
    "         self.sex = thesex\n",
    "         self.hostelname = thehostelname\n",
    "         self.age = theage\n",
    "         self.csc102examscore = thecsc102examscore\n",
    "         Student.studentCounter = Student.studentCounter\n",
    "        \n",
    "\n",
    "     def age(self):\n",
    "        if self.age > 16:\n",
    "            print(\"Age greater than 16\")\n",
    "        else:\n",
    "            print(\"Age below 16\")\n",
    "            \n",
    "     def getName(self):\n",
    "         return  self.name\n",
    "\n",
    "     def setName(self, thenewName):\n",
    "         self.name = thenewName\n",
    "    \n",
    "     def status(self):\n",
    "         if self.csc102examscore < 45:\n",
    "            print(\"You must retake this course next year\")\n",
    "         else:\n",
    "            print(\"You are safe\")\n",
    "\n",
    "     @staticmethod\n",
    "     def PAUNanthem():\n",
    "        print('Pau, here we come, Pau, here we come')\n",
    "    \n",
    "     @classmethod\n",
    "     def Course(cls):\n",
    "        print('registred course is CSC 102')\n",
    "        \n",
    "     @staticmethod\n",
    "     def EvenOrOdd(number):\n",
    "            if number%2 == 0:\n",
    "                print(\"It is an even number\")\n",
    "            else:\n",
    "                print(\"It is an odd number\")\n",
    "                \n",
    "     @classmethod\n",
    "    def SC(cls):\n",
    "        print(studentCounter)\n",
    "\n",
    "studendt1 = Student('James Kaka', '021074', 'M')\n",
    "print(studendt1.getName())\n",
    "studendt1.setName('James Gaga')\n",
    "print(studendt1.getName())\n",
    "\n",
    "Student.PAUNanthem()"
   ]
  },
  {
   "cell_type": "code",
   "execution_count": 11,
   "metadata": {},
   "outputs": [
    {
     "name": "stdout",
     "output_type": "stream",
     "text": [
      "15\n"
     ]
    }
   ],
   "source": [
    "def hello(age):\n",
    "    print(age)\n",
    "    \n",
    "\n",
    "hello(15)"
   ]
  },
  {
   "cell_type": "code",
   "execution_count": null,
   "metadata": {},
   "outputs": [],
   "source": []
  }
 ],
 "metadata": {
  "kernelspec": {
   "display_name": "Python 3",
   "language": "python",
   "name": "python3"
  },
  "language_info": {
   "codemirror_mode": {
    "name": "ipython",
    "version": 3
   },
   "file_extension": ".py",
   "mimetype": "text/x-python",
   "name": "python",
   "nbconvert_exporter": "python",
   "pygments_lexer": "ipython3",
   "version": "3.8.5"
  }
 },
 "nbformat": 4,
 "nbformat_minor": 4
}
