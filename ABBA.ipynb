{
 "cells": [
  {
   "cell_type": "code",
   "execution_count": 3,
   "metadata": {},
   "outputs": [
    {
     "name": "stdout",
     "output_type": "stream",
     "text": [
      "Enter a number:7\n",
      "Odd number\n"
     ]
    }
   ],
   "source": [
    "x = int(input(\"Enter a number:\"))\n",
    "if x%2==0:\n",
    "    print(\"Even number\")\n",
    "else:\n",
    "    print(\"Odd number\")"
   ]
  },
  {
   "cell_type": "code",
   "execution_count": 4,
   "metadata": {},
   "outputs": [
    {
     "name": "stdout",
     "output_type": "stream",
     "text": [
      "Enter even number:7\n",
      "Enter odd number:8\n",
      "Odds win\n"
     ]
    }
   ],
   "source": [
    "x = int(input(\"Enter even number:\"))\n",
    "y = int(input(\"Enter odd number:\"))\n",
    "\n",
    "if (x+y)%2==0:\n",
    "    print(\"Evens win\")\n",
    "else:\n",
    "    print(\"Odds win\")"
   ]
  },
  {
   "cell_type": "code",
   "execution_count": 5,
   "metadata": {},
   "outputs": [],
   "source": [
    "import pandas"
   ]
  },
  {
   "cell_type": "code",
   "execution_count": 6,
   "metadata": {},
   "outputs": [],
   "source": [
    "\n",
    "RD_Spend = [1,2,3,4,5,6,7,8,9,10]\n",
    "Administration = [10,20,30,40,50,60,70,80,90,100]\n",
    "Marketing_Spend = [100,200,300,400,500,600,700,800,900,1000]\n",
    "State = [\"New York\", \"California\", \"Minnesota\", \"Georgia\", \"Washington\", \"North Dakota\", \n",
    "         \"South Dakota\", \"Oklahoma\", \"Illinois\", \"Rhode Island\"]\n",
    "Profit = [101,202,303,404,505,606,707,808,909,110]\n",
    "         "
   ]
  },
  {
   "cell_type": "code",
   "execution_count": 7,
   "metadata": {},
   "outputs": [],
   "source": [
    "tabl = {\"R&D_Spend: \":RD_Spend, \"Administration: \":Administration, \n",
    "        \"Marketing_Spend: \":Marketing_Spend, \"State: \":State,\n",
    "        \"Profit: \":Profit}\n",
    "        "
   ]
  },
  {
   "cell_type": "code",
   "execution_count": 11,
   "metadata": {},
   "outputs": [
    {
     "data": {
      "text/html": [
       "<div>\n",
       "<style scoped>\n",
       "    .dataframe tbody tr th:only-of-type {\n",
       "        vertical-align: middle;\n",
       "    }\n",
       "\n",
       "    .dataframe tbody tr th {\n",
       "        vertical-align: top;\n",
       "    }\n",
       "\n",
       "    .dataframe thead th {\n",
       "        text-align: right;\n",
       "    }\n",
       "</style>\n",
       "<table border=\"1\" class=\"dataframe\">\n",
       "  <thead>\n",
       "    <tr style=\"text-align: right;\">\n",
       "      <th></th>\n",
       "      <th>R&amp;D_Spend:</th>\n",
       "      <th>Administration:</th>\n",
       "      <th>Marketing_Spend:</th>\n",
       "      <th>State:</th>\n",
       "      <th>Profit:</th>\n",
       "    </tr>\n",
       "  </thead>\n",
       "  <tbody>\n",
       "    <tr>\n",
       "      <th>0</th>\n",
       "      <td>1</td>\n",
       "      <td>10</td>\n",
       "      <td>100</td>\n",
       "      <td>New York</td>\n",
       "      <td>101</td>\n",
       "    </tr>\n",
       "    <tr>\n",
       "      <th>1</th>\n",
       "      <td>2</td>\n",
       "      <td>20</td>\n",
       "      <td>200</td>\n",
       "      <td>California</td>\n",
       "      <td>202</td>\n",
       "    </tr>\n",
       "    <tr>\n",
       "      <th>2</th>\n",
       "      <td>3</td>\n",
       "      <td>30</td>\n",
       "      <td>300</td>\n",
       "      <td>Minnesota</td>\n",
       "      <td>303</td>\n",
       "    </tr>\n",
       "    <tr>\n",
       "      <th>3</th>\n",
       "      <td>4</td>\n",
       "      <td>40</td>\n",
       "      <td>400</td>\n",
       "      <td>Georgia</td>\n",
       "      <td>404</td>\n",
       "    </tr>\n",
       "    <tr>\n",
       "      <th>4</th>\n",
       "      <td>5</td>\n",
       "      <td>50</td>\n",
       "      <td>500</td>\n",
       "      <td>Washington</td>\n",
       "      <td>505</td>\n",
       "    </tr>\n",
       "    <tr>\n",
       "      <th>5</th>\n",
       "      <td>6</td>\n",
       "      <td>60</td>\n",
       "      <td>600</td>\n",
       "      <td>North Dakota</td>\n",
       "      <td>606</td>\n",
       "    </tr>\n",
       "    <tr>\n",
       "      <th>6</th>\n",
       "      <td>7</td>\n",
       "      <td>70</td>\n",
       "      <td>700</td>\n",
       "      <td>South Dakota</td>\n",
       "      <td>707</td>\n",
       "    </tr>\n",
       "    <tr>\n",
       "      <th>7</th>\n",
       "      <td>8</td>\n",
       "      <td>80</td>\n",
       "      <td>800</td>\n",
       "      <td>Oklahoma</td>\n",
       "      <td>808</td>\n",
       "    </tr>\n",
       "    <tr>\n",
       "      <th>8</th>\n",
       "      <td>9</td>\n",
       "      <td>90</td>\n",
       "      <td>900</td>\n",
       "      <td>Illinois</td>\n",
       "      <td>909</td>\n",
       "    </tr>\n",
       "    <tr>\n",
       "      <th>9</th>\n",
       "      <td>10</td>\n",
       "      <td>100</td>\n",
       "      <td>1000</td>\n",
       "      <td>Rhode Island</td>\n",
       "      <td>110</td>\n",
       "    </tr>\n",
       "  </tbody>\n",
       "</table>\n",
       "</div>"
      ],
      "text/plain": [
       "   R&D_Spend:   Administration:   Marketing_Spend:        State:   Profit: \n",
       "0            1                10                100      New York       101\n",
       "1            2                20                200    California       202\n",
       "2            3                30                300     Minnesota       303\n",
       "3            4                40                400       Georgia       404\n",
       "4            5                50                500    Washington       505\n",
       "5            6                60                600  North Dakota       606\n",
       "6            7                70                700  South Dakota       707\n",
       "7            8                80                800      Oklahoma       808\n",
       "8            9                90                900      Illinois       909\n",
       "9           10               100               1000  Rhode Island       110"
      ]
     },
     "execution_count": 11,
     "metadata": {},
     "output_type": "execute_result"
    }
   ],
   "source": [
    "tabl"
   ]
  },
  {
   "cell_type": "code",
   "execution_count": 10,
   "metadata": {
    "scrolled": true
   },
   "outputs": [],
   "source": [
    "tabl = pandas. DataFrame(tabl)"
   ]
  },
  {
   "cell_type": "code",
   "execution_count": 20,
   "metadata": {},
   "outputs": [],
   "source": [
    "tabl.to_excel('tabl.xlsx')"
   ]
  },
  {
   "cell_type": "code",
   "execution_count": 23,
   "metadata": {},
   "outputs": [
    {
     "name": "stdout",
     "output_type": "stream",
     "text": [
      "25.0 miles per hour\n"
     ]
    }
   ],
   "source": [
    "distance = 50\n",
    "time = 2\n",
    "\n",
    "speed = distance/time\n",
    "print(speed, \"miles per hour\")"
   ]
  },
  {
   "cell_type": "code",
   "execution_count": 26,
   "metadata": {},
   "outputs": [
    {
     "name": "stdout",
     "output_type": "stream",
     "text": [
      "Input a:1\n",
      "Input b:-5\n",
      "Input c:2\n",
      "4.561552812808831\n",
      "0.4384471871911697\n"
     ]
    }
   ],
   "source": [
    "a = float(input(\"Input a:\"))\n",
    "b = float(input(\"Input b:\"))\n",
    "c = float(input(\"Input c:\"))\n",
    "\n",
    "x_1 = -b + ((b**2)-(4*a*c))**(1/2)\n",
    "x_2 = -b - ((b**2)-(4*a*c))**(1/2)\n",
    "\n",
    "x1 = x_1/(2*a)\n",
    "x2 = x_2/(2*a)\n",
    "\n",
    "print(x1)\n",
    "print(x2)"
   ]
  },
  {
   "cell_type": "code",
   "execution_count": null,
   "metadata": {},
   "outputs": [],
   "source": []
  }
 ],
 "metadata": {
  "kernelspec": {
   "display_name": "Python 3",
   "language": "python",
   "name": "python3"
  },
  "language_info": {
   "codemirror_mode": {
    "name": "ipython",
    "version": 3
   },
   "file_extension": ".py",
   "mimetype": "text/x-python",
   "name": "python",
   "nbconvert_exporter": "python",
   "pygments_lexer": "ipython3",
   "version": "3.8.5"
  }
 },
 "nbformat": 4,
 "nbformat_minor": 4
}
